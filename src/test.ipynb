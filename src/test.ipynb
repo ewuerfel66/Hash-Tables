{
 "cells": [
  {
   "cell_type": "code",
   "execution_count": 1,
   "metadata": {},
   "outputs": [],
   "source": [
    "from hashtable import HashTable"
   ]
  },
  {
   "cell_type": "code",
   "execution_count": 2,
   "metadata": {},
   "outputs": [],
   "source": [
    "ht = HashTable(8)"
   ]
  },
  {
   "cell_type": "code",
   "execution_count": 3,
   "metadata": {},
   "outputs": [],
   "source": [
    "ht.insert(\"key-0\", \"val-0\")\n",
    "ht.insert(\"key-1\", \"val-1\")\n",
    "ht.insert(\"key-2\", \"val-2\")\n",
    "ht.insert(\"key-3\", \"val-3\")\n",
    "ht.insert(\"key-4\", \"val-4\")\n",
    "ht.insert(\"key-5\", \"val-5\")\n",
    "ht.insert(\"key-6\", \"val-6\")\n",
    "ht.insert(\"key-7\", \"val-7\")\n",
    "ht.insert(\"key-8\", \"val-8\")\n",
    "ht.insert(\"key-9\", \"val-9\")"
   ]
  },
  {
   "cell_type": "code",
   "execution_count": 4,
   "metadata": {},
   "outputs": [
    {
     "data": {
      "text/plain": [
       "[<hashtable.LinkedPair at 0x7f2fa83e28d0>,\n",
       " <hashtable.LinkedPair at 0x7f2fa83e29e8>,\n",
       " <hashtable.LinkedPair at 0x7f2fa83e2860>,\n",
       " None,\n",
       " <hashtable.LinkedPair at 0x7f2fa83e2940>,\n",
       " <hashtable.LinkedPair at 0x7f2fa83e29b0>,\n",
       " <hashtable.LinkedPair at 0x7f2fa83e2898>,\n",
       " <hashtable.LinkedPair at 0x7f2fa83e27b8>]"
      ]
     },
     "execution_count": 4,
     "metadata": {},
     "output_type": "execute_result"
    }
   ],
   "source": [
    "ht.storage"
   ]
  },
  {
   "cell_type": "code",
   "execution_count": 5,
   "metadata": {},
   "outputs": [
    {
     "data": {
      "text/plain": [
       "4"
      ]
     },
     "execution_count": 5,
     "metadata": {},
     "output_type": "execute_result"
    }
   ],
   "source": [
    "ht._hash_mod('key-6')"
   ]
  },
  {
   "cell_type": "code",
   "execution_count": 6,
   "metadata": {},
   "outputs": [],
   "source": [
    "kvp = ht.storage[7]"
   ]
  },
  {
   "cell_type": "code",
   "execution_count": 7,
   "metadata": {},
   "outputs": [],
   "source": [
    "kvp = kvp.next"
   ]
  },
  {
   "cell_type": "code",
   "execution_count": 8,
   "metadata": {},
   "outputs": [
    {
     "data": {
      "text/plain": [
       "'key-1'"
      ]
     },
     "execution_count": 8,
     "metadata": {},
     "output_type": "execute_result"
    }
   ],
   "source": [
    "kvp.key"
   ]
  },
  {
   "cell_type": "code",
   "execution_count": 9,
   "metadata": {},
   "outputs": [],
   "source": [
    "# Iterate through\n",
    "while kvp.next is not None:\n",
    "    print(kvp.value)\n",
    "    kvp = kvp.next"
   ]
  },
  {
   "cell_type": "code",
   "execution_count": 10,
   "metadata": {},
   "outputs": [
    {
     "data": {
      "text/plain": [
       "'key-1'"
      ]
     },
     "execution_count": 10,
     "metadata": {},
     "output_type": "execute_result"
    }
   ],
   "source": [
    "kvp.key"
   ]
  },
  {
   "cell_type": "code",
   "execution_count": 12,
   "metadata": {},
   "outputs": [
    {
     "data": {
      "text/plain": [
       "'val-1'"
      ]
     },
     "execution_count": 12,
     "metadata": {},
     "output_type": "execute_result"
    }
   ],
   "source": [
    "ht.retrieve('key-1')"
   ]
  },
  {
   "cell_type": "code",
   "execution_count": 15,
   "metadata": {},
   "outputs": [
    {
     "name": "stdout",
     "output_type": "stream",
     "text": [
      "key-0\n",
      "val-0\n",
      "key-1\n",
      "val-1\n",
      "key-2\n",
      "val-2\n",
      "key-3\n",
      "val-3\n",
      "key-4\n",
      "val-4\n",
      "key-5\n",
      "val-5\n",
      "key-6\n",
      "val-6\n",
      "key-7\n",
      "val-7\n",
      "key-8\n",
      "val-8\n",
      "key-9\n",
      "val-9\n"
     ]
    }
   ],
   "source": [
    "for i in range(10):\n",
    "    key = 'key-' + str(i)\n",
    "    print(key)\n",
    "    print(ht.retrieve(key))"
   ]
  },
  {
   "cell_type": "code",
   "execution_count": null,
   "metadata": {},
   "outputs": [],
   "source": []
  }
 ],
 "metadata": {
  "kernelspec": {
   "display_name": "Python 3",
   "language": "python",
   "name": "python3"
  },
  "language_info": {
   "codemirror_mode": {
    "name": "ipython",
    "version": 3
   },
   "file_extension": ".py",
   "mimetype": "text/x-python",
   "name": "python",
   "nbconvert_exporter": "python",
   "pygments_lexer": "ipython3",
   "version": "3.7.3"
  }
 },
 "nbformat": 4,
 "nbformat_minor": 2
}
